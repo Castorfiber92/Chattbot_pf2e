{
 "cells": [
  {
   "cell_type": "markdown",
   "id": "097c2fcc",
   "metadata": {},
   "source": [
    "## Reflektion kring kunskapskontroll i deep-learning"
   ]
  },
  {
   "cell_type": "markdown",
   "id": "3ef93ba6",
   "metadata": {},
   "source": [
    "En fördjupad och kritisk diskussion kring “hur din modell hade kunnat användas i\n",
    "verkligheten och vilka potentiella utmaningar och möjligheter (affärsmässiga, etiska\n",
    "och andra perspektiv du finner relevanta) som finns”."
   ]
  },
  {
   "cell_type": "markdown",
   "id": "6153e462",
   "metadata": {},
   "source": [
    "### Inledande tankar kring chattboten\n",
    "\n",
    "På min fritid så lägger jag ett par kvällar i veckan på att spela rollspel (ett TTRPG kallat Pathfinder, 2nd edition). Detta gör man i grupp, ofta 3-4 spelar samt 1 DM (\"spelledlare\"). Runt rollspelet finns det flera olika kontexter att förhålla sig till: regler & världsbeskrivning (med historia, miljöbeskrivningar och kanske pågående äventyr). En utmaning jag själv stött på som spelledare är att hålla koll på all kontex, det är också utmanande att givet kontexten bygga vidare. Jag tänkte därför att detta blev ett utmärkt sätt att titta på om en chattbot kunde stötta i detta. \n",
    "\n",
    "Den kontext min chattbot tränat på är fyra stycken pdf'er, där varje pdf motsvarar ett del-äventyr i ett större äventyr (kallat \"season of ghosts\"). \n",
    "Mina förhoppningar gällande potentiella användningsområden var:\n",
    "* Använda chattbotten för att söka information kring återkommande teman (om jag spelleder första delen och spelarna stöter på något, så är det bra om jag vet vilken roll detta kommer spela i framtiden).\n",
    "* Använda chattbotten för att söka kort/snabb information (istället för att börja scrolla genom 80sidor pdf).\n",
    "* Använda chattbotten för att skapa beskrivningar/sånger/miljöer som bättre stämmer med äventyrets större kontext.\n"
   ]
  },
  {
   "cell_type": "markdown",
   "id": "0b9ad4c6",
   "metadata": {},
   "source": [
    "### Framtida möjligheter\n",
    "\n",
    "Rollspelandet är en hobby som under senaste åren fått ett uppsving över hela världen. Ett av de största problemen som hobbyn möter är instegströskeln, dels för spelare men framförallt för spelledare. Det kräver mycket tid för att läsa in sig i regelböcker, worldsettings (om man inte bygger själv, och då tar det ännu mer tid) med mera. \n",
    "\n",
    "Företagen bakom rollspelen har fram tills för ett par år sen främst tjänat pengar på att sälja böcker (för reglerna, världsbeskrivningar, färdiga äventyr). Men sen ett par år tillbaka har det för de största rollspelen (tex dungeons & dragons, DnD) dykt upp subscription-alternativ på officiella hemsidor,samt att man kan äga digitala licenser. \n",
    "\n",
    "Jag kan därför tänka mig att en chattbot som är extra tränad på materialet skulle kunna vara intressant dels för företaget med subscriptions: ge användare med subscriptions tillgång till chattbot som använder sig av embeddings kopplade till de böcker som användaren äger digitalt, vilket skulle kunna leda till högre trafik på hemsidan för intäkter. Ett annat alternativ är att de förlag som ger ut individuella äventyr inkluderar möjligheten att köpa in sig i en chattbots-tjänst för att underlätta för kunden. \n"
   ]
  },
  {
   "cell_type": "markdown",
   "id": "6b779706",
   "metadata": {},
   "source": [
    "### Övriga tankar\n",
    "\n",
    "Det har varit väldigt lärorikt att arbeta med denna kunskapskontrollen och flera intressanta aspekter av Data Science har kommit upp, tex:\n",
    "\n",
    "Precision vs recall i kontexten svar från chattboten: I min tänkta användning av chattbotten så såg jag framför mig svar av den längre typen som hjälper användaren att bygga vidare. Risken med detta är att delar av svaren har låg precision. Jag har bett modellen i system-prompten att försöka indikera svar den kände sig mindre säker på, vilket den gör på (upplever jag) bra sätt. En bonus var att den också började skriva ut vad den infererade, vilket också ökade användningsnyttan för mig. \n",
    "\n",
    "Skriva effektiv pythonkod: Mycket av koden är tagen/inspirerad av kursens lärobok samt ett rekomenderat repository på github för RAG-modeller. När jag började arbetet så använde jag endast semantic chunking, och när det väl fungerade så utökade jag med fixed length. Det jag märkte då var att funktionerna inte var skrivna på ett sånt sätt att jag kunde använda samma funktion för olika chunking-modeller. Första lösningen var att duplicera alla funktioner men justera dom så att det fungerade med fixed-length. Men när jag väl gjort det och kollade över koden så kändes det väldigt ineffektivt med så många funktioner som gjorde precis samma sak. Jag lyckades tillslut med en lösning som innebar att jag kunde ange vilken vectorstore jag ville hämta text/embeddings ifrån, och alla duplicates kunde tas bort. Problemet med detta är dock att det nu istället skickas mer information än nödvändigt mellan funktioner i vissa lägen (tex när det ska genereras validerings-prompts, dessa behöver ju egentligen inte kontext från vectorstore men hämtar ändå det). Det finns alltså klara förbättringsområden här, där jag tex hade kunnat skapa en ny, separat funktion just för att generea valideringsprompts som inte behöver skicka extra information mellan funktioner.\n",
    "\n",
    "Pre-processing: Jag valde i denna uppgiften att inte lägga mer tid än nödvändigt på pre-processing. Förutom det minsta möjliga, att få dom inlästa som string, så har jag endast sett till att övre och undre delen av varje sida har tagit bort, detta då det i pdf'erna här finns mycket onödigt \"noise\" (mailadress till ägaren av pdfen, nedladdningsdatum mm). I ett scenario där man börjar arbeta mot att produktionssätta en chattbot inspirerad av detta så hade det funnits mycket att göra kring pre-processing, då det också finns många hela sidor som inte är relevanta (reklam), det finns också bilder som hade varit relevanta att få med i modellen (tex kartor).\n"
   ]
  },
  {
   "cell_type": "markdown",
   "id": "d1b59412",
   "metadata": {},
   "source": [
    "## Självutvärdering\n",
    "\n",
    "1. Vad har varit roligast i kunskapskontrollen?\n",
    "Det har varit väldigt roligt att komma igång med python-programmering igen, känns som att varje gång det återuptas så kopplar jag saker som inte tidigare suttit ordentligt. Jag är också väldigt nöjd med att jag under denna kunskapskontroll fått arbeta lite med commits på github och fått det att fungera bättre än tidigare, känns lovande inför höstens LIA. \n",
    "\n",
    "2. Vilket betyg anser du att du ska ha och varför?\n",
    "Jag anser att jag uppfyller kraven för VG, med möjliga tillägget att python-koden kanske inte bedöms som välskriven och korrekt (men den är fungerande!)\n",
    "\n",
    "3. Vad har varit mest utmanande i arbetet och hur har du hanterat det?\n",
    "Brottades mycket med vector-store implementation, där jag inte lyckades hålla reda på formatet på input/outputs och fick ta hjälp från klasskamrater och lärare. Men känner också att jag nu lärt mig mycket kring det, både hur jag i arbetsprocessen bättre ska hålla koll på datatyper men känner också att jag fick en ökad förståelse för nyttan av objektorienterad programmering (även om jag använder mig väldigt lite av det i koden)."
   ]
  },
  {
   "cell_type": "markdown",
   "id": "b99007cb",
   "metadata": {},
   "source": []
  }
 ],
 "metadata": {
  "language_info": {
   "name": "python"
  }
 },
 "nbformat": 4,
 "nbformat_minor": 5
}
