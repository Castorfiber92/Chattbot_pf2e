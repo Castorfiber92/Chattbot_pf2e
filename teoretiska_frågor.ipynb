{
 "cells": [
  {
   "cell_type": "markdown",
   "id": "a65004e8",
   "metadata": {},
   "source": [
    "## Teoretiska frågor"
   ]
  },
  {
   "cell_type": "markdown",
   "id": "8761eaf6",
   "metadata": {},
   "source": [
    "### 1 Hur är AI, Maskininlärning och Deep Learning relaterat?\n",
    "\n",
    "Ett vanligt sätt att visualisera AI, Maskininlärning och Deep Learning är som mängd och delmängd.\n",
    "AI är då den största mängden, och inom den finns delmängden maskininlärning (dvs maskininlärning är en gren inom AI, men all AI handlar inte om maskininlärning).\n",
    "På samma sätt är deep learning är delmängd av maskininlärningen."
   ]
  },
  {
   "cell_type": "markdown",
   "id": "ae0d6d6f",
   "metadata": {},
   "source": [
    "### 2 Hur är Tensorflow och Keras relaterat?\n",
    "\n",
    "Kort svar: Keras är ett bibliotek till python som underlättar användandet av biblioteket Tensorflow. \n",
    "\n",
    "Längre svar: Tensorflow är verktyg utvecklat av Google som används för machinelearning. I tensorflow har du tillgång till väldigt low-level inställningar, vilket ger användare stort utrymme för justeringar men kan också innebära en komplexitet som gör det jobbigt att starta med det. Genom att lägga till Keras tillåts användaren istället fokusera på high-level inställningar, så sköter Keras kommunikationen med tensorflow kring hur det ska se ut på low level. "
   ]
  },
  {
   "cell_type": "markdown",
   "id": "82f2fcb6",
   "metadata": {},
   "source": [
    "### 3 Vad är en parameter? Vad är en hyperparameter?\n",
    "\n",
    "En parameter är de variabler/koefficienter som våra modeller försöker träna fram. Jämför detta med en hyperparameter som bestämms i förväg. \n",
    "Det innebär inte att vi inte testar olika värden på hyperparametrar (hyperparameter tuning), men när modellen väl börjar tränas så hålls dom konstanta."
   ]
  },
  {
   "cell_type": "markdown",
   "id": "4dc97fc8",
   "metadata": {},
   "source": [
    "### 4 När man skall göra modellval och modellutvärdering kan man använda tränings-, validerings- och testdataset. Förklara hur de olika delarna kan användas.\n",
    "\n",
    "Inför ett modellval så kan användaren ha flera olika modeller i åtanke. För att välja mellan dessa används träningsdatan för att träna modellerna, för att sedan testas mot valideringsdatan. \n",
    "Den modell som sen bedöms som mest lämpad att gå vidare med tränas om/justeras på tränings + valideringsdata, och utvärderas mot testdatan i sista steget. \n"
   ]
  },
  {
   "cell_type": "markdown",
   "id": "e2cb59c1",
   "metadata": {},
   "source": [
    "### 5 Förklara vad nedanstående kod gör\n",
    "\n",
    "Koden skapar ett neuralt nätverk.\n",
    "\n",
    "I första delen skapas lagren i närverket (3st)\n",
    "Lager 1: Har 100 noder, och har relu som aktiveringsfunktion. (relu hindrar negativa värden). \n",
    "Lager 2: har 50 noder, och har relu som aktiveringsfunktion.\n",
    "Lager 3 har 1 nod, och sigmoid som aktiveringsfunktion. \n",
    "Raden med dropout rate = 0.2 hänvisar till det lager som är ovanför (lager 1) och resulterar i att varje neuron har en 20% chans att droppas vid körning (så: on avrage så droppas 20% neurons varje körning).\n",
    "\n",
    "I nästa del sätts de olika metoderna/funktionerna som ska gälla vid träning/utvärdering av modellen.\n",
    "optimizer=adam bestämmer hur nätverket ska justera värderna för neuronerna vid träning (Adaptive moment estimation)\n",
    "loss=binary_cossentropy bestämmer vilken straff-funktion nätverket ska använda för att utvärdera resultatet\n",
    "metrics = accuracy bestämmer vad som ska utvärderas av modellen. \n",
    "\n",
    "Loss och metrics kan verka liknande. man kan tänka sig att skillnaden är att loss är vad modellen optimerar mot, metrics är vad modellen presenterar i efterhand.\n",
    "\n",
    "I sista delen anges vilken data som ska användas (x_train, y_train), hur stor andel av datan som ska sättas undan för validering (20%), hur många epoker som ska köras (hur många gånger ska nätverket tränas) och att early stopping ska användas. \n"
   ]
  },
  {
   "cell_type": "markdown",
   "id": "1f8df4ff",
   "metadata": {},
   "source": [
    "# Kod till fråga 5 \n",
    "n_cols = x_train.shape[1]\n",
    "\n",
    "nn_model = Sequential()\n",
    "nn_model.add(Dense(100, activation='relu', input_shape=(n_cols, )))\n",
    "nn_model.add(Dropout(rate=0.2))\n",
    "nn_model.add(Dense(50, activation='relu'))\n",
    "nn_model.add(Dense(1, activation='sigmoid'))\n",
    "\n",
    "nn_model.compile(\n",
    "    optimizer='adam',\n",
    "    loss='binary_crossentropy',\n",
    "    metrics=['accuracy' ])\n",
    "    early_stopping_monitor = EarlyStopping(patience=5)\n",
    "\n",
    "nn_model.fit(\n",
    "    x_train,\n",
    "    y_train,\n",
    "    validation_split=0.2,\n",
    "    epochs=100,\n",
    "    callbacks=[early_stopping_monitor])"
   ]
  },
  {
   "cell_type": "markdown",
   "id": "04029aed",
   "metadata": {},
   "source": [
    "### 6 Vad är syftet med att regularisera en modell?\n",
    "\n",
    "Regularisering är ett samlingsnamn för metoder som används för att öka generalisering hos en modell (och minska overfitting). "
   ]
  },
  {
   "cell_type": "markdown",
   "id": "7d9d33ae",
   "metadata": {},
   "source": [
    "### 7 ”Dropout” är en regulariseringsteknik, vad är det för något?\n",
    "\n",
    "Dropout gör så att nätverket behöver träna neuronerna att vara flexibla/generaliserade istället för specialliserade. Det uppnår detta genom varje epok \"droppa\" vissa neuroner, vilket gör att neuronerna intill behöver kompensera och lära sig fler saker. "
   ]
  },
  {
   "cell_type": "markdown",
   "id": "9e61ceec",
   "metadata": {},
   "source": [
    "### 8 ”Early stopping” är en regulariseringsteknik, vad är det för något?\n",
    "\n",
    "Early stopping begränsar hur många epoker som ska köras. Efter varje epok så jämförs det hur mycket loss minskat. När minskningen i loss avtar är det en indikator på att modellen är \"lagom\" tränad, och att fler epoker hade lett till overfitting."
   ]
  },
  {
   "cell_type": "markdown",
   "id": "76ffb669",
   "metadata": {},
   "source": [
    "### 9 Din kollega frågar dig vilken typ av neuralt nätverk som är populärt för bildanalys, vad svarar du?\n",
    "\n",
    "CNN (Convolutionarl neural network)"
   ]
  },
  {
   "cell_type": "markdown",
   "id": "22a5169f",
   "metadata": {},
   "source": [
    "### 10 Förklara översiktligt hur ett ”Convolutional Neural Network” fungerar.\n",
    "\n",
    "Det som utmärker CNN är att det innehåller ett eller fler convolutional-layer. \n",
    "\n",
    "Ett convolutional-layer kan ses som ett filter som läggs över bilden för att förstärka egenskaper (features).\n",
    "\n",
    "Genom att börja med att identifiera grundläggande/enkla (low-level) featuers i de första layers, så kopplas dessa ihop i senare lager för mer avancerade (high-level) features. \n",
    "\n",
    "CNN använder sig också ofta av pooling layers för att filtrera bort mindre viktiga features/välja ut viktigaste egenskaperna. \n",
    "\n"
   ]
  },
  {
   "cell_type": "markdown",
   "id": "c7d53741",
   "metadata": {},
   "source": [
    "### 11 Vad gör nedanstående kod?"
   ]
  },
  {
   "cell_type": "code",
   "execution_count": null,
   "id": "99bbdd6e",
   "metadata": {},
   "outputs": [],
   "source": [
    "# Kod till fråga 11\n",
    " model.save(\"model_file.keras\")\n",
    " my_model = load_model(\"model_file.keras\")"
   ]
  },
  {
   "cell_type": "markdown",
   "id": "22b40be9",
   "metadata": {},
   "source": [
    "Koden sparar \"model\" som en keras-fil vilken senare loadas som \"my_model\". Detta är användbart då det möjligör att använda modeller utan att behöva träna dom inför varje körning. "
   ]
  },
  {
   "cell_type": "markdown",
   "id": "774f66b9",
   "metadata": {},
   "source": []
  }
 ],
 "metadata": {
  "kernelspec": {
   "display_name": ".venv",
   "language": "python",
   "name": "python3"
  },
  "language_info": {
   "codemirror_mode": {
    "name": "ipython",
    "version": 3
   },
   "file_extension": ".py",
   "mimetype": "text/x-python",
   "name": "python",
   "nbconvert_exporter": "python",
   "pygments_lexer": "ipython3",
   "version": "3.12.10"
  }
 },
 "nbformat": 4,
 "nbformat_minor": 5
}
